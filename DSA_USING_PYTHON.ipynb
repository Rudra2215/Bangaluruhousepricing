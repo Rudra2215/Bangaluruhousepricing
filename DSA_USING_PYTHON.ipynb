{
  "nbformat": 4,
  "nbformat_minor": 0,
  "metadata": {
    "colab": {
      "provenance": [],
      "authorship_tag": "ABX9TyNNHg3kKHCbAPuBC5JAfC2I",
      "include_colab_link": true
    },
    "kernelspec": {
      "name": "python3",
      "display_name": "Python 3"
    },
    "language_info": {
      "name": "python"
    }
  },
  "cells": [
    {
      "cell_type": "markdown",
      "metadata": {
        "id": "view-in-github",
        "colab_type": "text"
      },
      "source": [
        "<a href=\"https://colab.research.google.com/github/Rudra2215/Bangaluruhousepricing/blob/main/DSA_USING_PYTHON.ipynb\" target=\"_parent\"><img src=\"https://colab.research.google.com/assets/colab-badge.svg\" alt=\"Open In Colab\"/></a>"
      ]
    },
    {
      "cell_type": "markdown",
      "source": [
        "***ARRAYS AND LIST ***"
      ],
      "metadata": {
        "id": "iPil66ysS6WT"
      }
    },
    {
      "cell_type": "code",
      "execution_count": null,
      "metadata": {
        "colab": {
          "base_uri": "https://localhost:8080/"
        },
        "id": "7BHFmdEGM6Et",
        "outputId": "4f0a78d2-06bf-4111-de72-1849a96124d7"
      },
      "outputs": [
        {
          "output_type": "stream",
          "name": "stdout",
          "text": [
            "array('i', [0, 1, 2, 3, 4, 5])\n"
          ]
        },
        {
          "output_type": "execute_result",
          "data": {
            "text/plain": [
              "array.array"
            ]
          },
          "metadata": {},
          "execution_count": 8
        }
      ],
      "source": [
        "from array import *\n",
        "a=array('i',[0,1,2,3,4,5])\n",
        "print(a)\n",
        "type (a)"
      ]
    },
    {
      "cell_type": "code",
      "source": [
        "for x in a:\n",
        "  print(x)"
      ],
      "metadata": {
        "colab": {
          "base_uri": "https://localhost:8080/"
        },
        "id": "OR4_iYryNIT8",
        "outputId": "1f68cf8f-2e88-4f29-e8b1-44fe8907a481"
      },
      "execution_count": null,
      "outputs": [
        {
          "output_type": "stream",
          "name": "stdout",
          "text": [
            "0\n",
            "1\n",
            "2\n",
            "3\n",
            "4\n",
            "5\n"
          ]
        }
      ]
    },
    {
      "cell_type": "code",
      "source": [
        "for i in range(len(a)):\n",
        "  print(a[i])\n",
        "\n",
        "print(len(a))"
      ],
      "metadata": {
        "colab": {
          "base_uri": "https://localhost:8080/"
        },
        "id": "ieooYwdbNiK9",
        "outputId": "d91611ea-8023-487f-d1c3-97fafb9b5c74"
      },
      "execution_count": null,
      "outputs": [
        {
          "output_type": "stream",
          "name": "stdout",
          "text": [
            "0\n",
            "1\n",
            "2\n",
            "3\n",
            "4\n",
            "5\n",
            "6\n"
          ]
        }
      ]
    },
    {
      "cell_type": "code",
      "source": [
        "while(i<len(a)):\n",
        "  print(a[i])\n",
        "  i=i+1"
      ],
      "metadata": {
        "colab": {
          "base_uri": "https://localhost:8080/"
        },
        "id": "fR4mya7HQ8G8",
        "outputId": "87e499d1-d811-404b-ca94-0ec85e14eabe"
      },
      "execution_count": null,
      "outputs": [
        {
          "output_type": "stream",
          "name": "stdout",
          "text": [
            "5\n"
          ]
        }
      ]
    },
    {
      "cell_type": "code",
      "source": [
        "l1=[36,54,96,12,10,0,1006]\n",
        "print(l1)\n",
        "print(len(l1))\n",
        "print(sorted(l1))\n",
        "print(min(l1))\n",
        "print(max(l1))\n",
        "print(sum(l1))"
      ],
      "metadata": {
        "colab": {
          "base_uri": "https://localhost:8080/"
        },
        "id": "6j5ZKvygRZgI",
        "outputId": "12341be7-1c4f-4961-b2b7-b25c709dd217"
      },
      "execution_count": null,
      "outputs": [
        {
          "output_type": "stream",
          "name": "stdout",
          "text": [
            "[36, 54, 96, 12, 10, 0, 1006]\n",
            "7\n",
            "[0, 10, 12, 36, 54, 96, 1006]\n",
            "0\n",
            "1006\n",
            "1214\n"
          ]
        }
      ]
    },
    {
      "cell_type": "markdown",
      "source": [
        "***OBJECT AND CLASSES REFFER SHRADHA DIDI KA LECTURE FOR OOPS ***"
      ],
      "metadata": {
        "id": "H-ftDE9OVAJq"
      }
    },
    {
      "cell_type": "markdown",
      "source": [
        "SINLY LINKED LIST"
      ],
      "metadata": {
        "id": "9liaAJ1XVxwE"
      }
    },
    {
      "cell_type": "code",
      "source": [
        "class emplyee:\n",
        "  def __init__(self,empid,name,salary):\n",
        "    self.empid=empid\n",
        "    self.name=name\n",
        "    self.salary=salary\n",
        "\n",
        "e1= emplyee(100,\"atul\", 25000)\n",
        "print(e1.empid)\n",
        "print(e1.name)\n",
        "print(e1.salary)"
      ],
      "metadata": {
        "colab": {
          "base_uri": "https://localhost:8080/"
        },
        "id": "Ek8XrL7WT5w8",
        "outputId": "0e0970e7-8b57-4513-ea56-5ce7e7422a92"
      },
      "execution_count": null,
      "outputs": [
        {
          "output_type": "stream",
          "name": "stdout",
          "text": [
            "100\n",
            "atul\n",
            "25000\n"
          ]
        }
      ]
    },
    {
      "cell_type": "code",
      "source": [
        "class node:\n",
        "  def __init__(self,item=None,next=None):\n",
        "    self.item=item\n",
        "    self.next=next\n",
        "\n",
        "class sll:\n",
        "  def __init__(self, start):\n",
        "    self.start=start\n",
        "\n",
        "  def __init__(self):\n",
        "    self.start=None\n",
        "\n",
        "  def insert_at_start(self,data):\n",
        "    n= node(data, self.start)\n",
        "    self.start=n\n",
        "    return self.start\n",
        "\n",
        "  def insert_at_last(self,data):\n",
        "    n= node(data)\n",
        "    if self.start is None:\n",
        "      self.start=n\n",
        "    else:\n",
        "      current=self.start\n",
        "      while current.next is not None:\n",
        "        current=current.next\n",
        "      current.next=n\n",
        "\n",
        "\n",
        "\n",
        "\n",
        "#driver code\n",
        "mylist=sll()\n"
      ],
      "metadata": {
        "id": "xVnxvWZqXZjO"
      },
      "execution_count": null,
      "outputs": []
    },
    {
      "cell_type": "code",
      "source": [
        "class node:\n",
        "    def __init__(self, item=None, next=None):\n",
        "        self.item = item\n",
        "        self.next = next\n",
        "\n",
        "class sll:\n",
        "    def __init__(self):\n",
        "        self.head = None\n",
        "        self.tail = None\n",
        "        self.size = 0\n",
        "\n",
        "    def insert_at_start(self, item):\n",
        "        new_node = node(item)\n",
        "        new_node.next = self.head\n",
        "        self.head = new_node\n",
        "        if self.tail is None:\n",
        "            self.tail = new_node\n",
        "        self.size += 1\n",
        "\n",
        "    def insert_at_last(self, item):\n",
        "        new_node = node(item)\n",
        "        if self.tail is None:\n",
        "            self.head = self.tail = new_node\n",
        "        else:\n",
        "            self.tail.next = new_node\n",
        "            self.tail = new_node\n",
        "        self.size += 1\n",
        "\n",
        "# Create the sll object and perform insertions\n",
        "obj = sll()\n",
        "obj.insert_at_start(20)\n",
        "obj.insert_at_last(30)\n",
        "obj.insert_at_start(50)\n",
        "\n",
        "# Print the linked list\n",
        "current = obj.head\n",
        "while current is not None:\n",
        "    print(current.item, end=\" -> \")\n",
        "    current = current.next\n",
        "print(\"None\")\n",
        "\n",
        "# Separate part of the code for testing node class\n",
        "n1 = node(10, 2)\n",
        "n2 = node(20, 3)\n",
        "n3 = node(30, 4)\n",
        "n4 = node(40, 5)\n",
        "n5 = node(50, 6)\n",
        "print(n1.item)\n",
        "print(n1.next)\n",
        "print(n2.item)\n",
        "print(n2.next)\n",
        "print(n3.item)\n",
        "print(n3.next)\n",
        "print(n4.item)\n",
        "print(n4.next)\n",
        "print(n5.item)\n",
        "print(n5.next)"
      ],
      "metadata": {
        "id": "PJcQh1QKGqjE",
        "colab": {
          "base_uri": "https://localhost:8080/"
        },
        "outputId": "2db0e601-2438-46d9-d472-6c6166b89c35"
      },
      "execution_count": null,
      "outputs": [
        {
          "output_type": "stream",
          "name": "stdout",
          "text": [
            "50 -> 20 -> 30 -> None\n",
            "10\n",
            "2\n",
            "20\n",
            "3\n",
            "30\n",
            "4\n",
            "40\n",
            "5\n",
            "50\n",
            "6\n"
          ]
        }
      ]
    },
    {
      "cell_type": "code",
      "source": [
        "#DOUBLY LINKEDLIST\n",
        "class Node:\n",
        "  def __init__(self, prev= None,item=None, next=None):\n",
        "    self.prev=prev\n",
        "    self.item=item\n",
        "    self.next=next\n",
        "\n",
        "\n",
        "class Dll:\n",
        "  def __init__(self, start=None):\n",
        "    self.start=start\n",
        "\n",
        "  def is_empty(self):\n",
        "    return self.start is None\n",
        "\n",
        "  def insert_at_start(self, data):\n",
        "    n= Node(None, data, self.start)\n",
        "    if self.is_empty():\n",
        "      self.start=n\n",
        "    else:\n",
        "      self.start.prev=n\n",
        "      self.start=n\n",
        "\n",
        "  def insert_at_last(self, data):\n",
        "    temp=self.start\n",
        "    if self.start != None:\n",
        "      while temp.next != None:\n",
        "        temp=temp.next\n",
        "\n",
        "    n= Node(temp, data, None)\n",
        "    if temp == None:\n",
        "      self.start=n\n",
        "    else:\n",
        "      temp.next=n\n",
        "\n",
        "  def search(self, data):\n",
        "    temp=self.start\n",
        "    while temp != None:\n",
        "      if temp.item == data:\n",
        "        return temp\n",
        "      temp=temp.next\n",
        "    return None\n",
        "\n",
        "  def insert_after(self, temp, data):\n",
        "    if temp != None:\n",
        "      n= Node(temp, data, temp.next)\n",
        "      if temp.next != None:\n",
        "        temp.next.prev=n\n",
        "      temp.next=n\n",
        "\n",
        "  def print_all(self):\n",
        "    temp=self.start\n",
        "    while temp != None:\n",
        "      print(temp.item, end=\" \")\n",
        "      temp=temp.next\n",
        "\n",
        "  def deleta_first(self):\n",
        "    if self.start != None:\n",
        "      self.start=self.start.next\n",
        "      if self.start != None:\n",
        "        self.start.prev=None\n",
        "\n",
        "  def delete_last(self):\n",
        "    if self.start != None:\n",
        "      temp=self.start\n",
        "      while temp.next != None:\n",
        "        temp=temp.next\n",
        "      if temp.prev != None:\n",
        "        temp.prev.next=None\n",
        "      else:\n",
        "        self.start=None\n",
        "\n",
        "  def delete_item(self, data):\n",
        "    if self.start is None:\n",
        "      pass\n",
        "    elif self.start.next is None:\n",
        "      if self.start.item == data:\n",
        "        self.start=None\n",
        "    else:\n",
        "      temp=self.start\n",
        "      while temp != None:\n",
        "          if temp.item == data:\n",
        "            if temp.next != None:\n",
        "              temp.next.prev=temp.prev\n",
        "            if temp.prev != None:\n",
        "              temp.prev.next=temp.next\n",
        "            else:\n",
        "              self.start=temp.next\n",
        "            break\n",
        "      temp=temp.next\n",
        "\n",
        "\n",
        "\n",
        "\n",
        "\n",
        "mylist= Dll()\n",
        "\n",
        "mylist.insert_at_start(10)\n",
        "mylist.insert_at_last(20)\n",
        "mylist.insert_after(mylist.search(10), 30)\n",
        "mylist.print_all()\n",
        "\n",
        "\n",
        "\n",
        "\n",
        "\n",
        "\n",
        "\n",
        "\n",
        "\n",
        "\n",
        "\n",
        "\n",
        "\n"
      ],
      "metadata": {
        "id": "eft-gObPZGqj",
        "colab": {
          "base_uri": "https://localhost:8080/"
        },
        "outputId": "49ede9c9-b61c-4425-e8f9-184987464385"
      },
      "execution_count": null,
      "outputs": [
        {
          "output_type": "stream",
          "name": "stdout",
          "text": [
            "10 30 20 "
          ]
        }
      ]
    },
    {
      "cell_type": "markdown",
      "source": [
        "**BINARY SEARCH TREE**\n"
      ],
      "metadata": {
        "id": "ohOVUbC_Rd0M"
      }
    },
    {
      "cell_type": "code",
      "source": [
        "class Node:\n",
        "  def __init__(self, left = None, right = None, item = None):\n",
        "    self.left = left\n",
        "    self.right = right\n",
        "    self.item = item\n",
        "\n",
        "class BST:\n",
        "  def __init__(self, root = None):\n",
        "    self.root = root\n",
        "  def insert(self, data):\n",
        "    self.root = self.insert_helper(self.root, data)\n",
        "    def insert_helper(self, root, data):\n",
        "      if root == None:\n",
        "         return Node(data)\n",
        "      if data < root.item:\n",
        "        root.left = self.insert_helper(root.left, data)\n",
        "      else:\n",
        "        root.right = self.insert_helper(root.right, data)\n",
        "      return root\n",
        "#question 4 to create a search fun\n",
        "    def search(self, data):\n",
        "      return self.search_helper(self.root, data)\n",
        "      def search_helper(self, root, data):\n",
        "        if root.item == data or data ==root.item:\n",
        "          return root\n",
        "        if data < root.item:\n",
        "          return self.search_helper(root.left, data)\n",
        "        else:\n",
        "          return self.search_helper(root.right, data)\n",
        "#question to create a in order traversal\n",
        "\n",
        "    def in_order(self):\n",
        "      result=[]\n",
        "      self.in_order_helper(self.root, result)\n",
        "      return result\n",
        "    def in_order_helper(self, root, result):\n",
        "      if root:\n",
        "        self.in_order_helper(root.left, result)\n",
        "        result.append(root.item)\n",
        "        self.in_order_helper(root.right, result)\n",
        "\n",
        "    def preorder(self):\n",
        "      result=[]\n",
        "      self.preorder_helper(self.root, result)\n",
        "      return result\n",
        "    def preorder_helper(self, root, result):\n",
        "      if root:\n",
        "        result.append(root.item)\n",
        "        self.preorder_helper(root.left, result)\n",
        "        self.preorder_helper(root.right, result)\n",
        "\n",
        "    def postorder(self):\n",
        "      result=[]\n",
        "      self\n",
        "    def postorder_helper(self, root, result):\n",
        "      if root:\n",
        "        self.postorder_helper(root.left, result)\n",
        "        self.postorder_helper(root.right, result)\n",
        "        result.append(root.item)\n",
        "\n",
        "\n",
        "\n",
        "\n",
        "\n",
        "\n",
        "\n",
        "\n",
        "\n"
      ],
      "metadata": {
        "id": "CegSYSoTRhlL"
      },
      "execution_count": 7,
      "outputs": []
    },
    {
      "cell_type": "code",
      "source": [
        "!git remote add origin https://github.com/Rudra2215/daily_dsa_pratice.git\n",
        "!git branch -M main\n",
        "!git push -u origin main"
      ],
      "metadata": {
        "id": "IyiD3YA0hrat",
        "colab": {
          "base_uri": "https://localhost:8080/"
        },
        "outputId": "f4af9665-914e-4cd7-fe2f-f66e820535eb"
      },
      "execution_count": 9,
      "outputs": [
        {
          "output_type": "stream",
          "name": "stdout",
          "text": [
            "fatal: not a git repository (or any of the parent directories): .git\n",
            "fatal: not a git repository (or any of the parent directories): .git\n",
            "fatal: not a git repository (or any of the parent directories): .git\n"
          ]
        }
      ]
    },
    {
      "cell_type": "code",
      "source": [],
      "metadata": {
        "id": "kWfAetsK2503"
      },
      "execution_count": null,
      "outputs": []
    }
  ]
}